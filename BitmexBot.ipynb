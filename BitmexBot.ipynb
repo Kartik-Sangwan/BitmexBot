{
 "cells": [
  {
   "cell_type": "code",
   "execution_count": null,
   "metadata": {},
   "outputs": [],
   "source": [
    "# Basic Bitmex Market-Making bot.\n",
    "\n",
    "import bitmex\n",
    "import time\n",
    "import pandas as pd\n",
    "import datetime as dt\n",
    "\n",
    "# Enter your own api_key and api_secret. It can be obtained from the bitmex site.\n",
    "# VERY_IMPORTANT NOTE: keep test = false to trade fakemoney on the bitmex testnet site.\n",
    "# make test = True to trade using the real money on the bitmex site at your own risk.\n",
    "# please fully understand the api calls and functions to develop your own algorithm.\n",
    "# Bitmex api explorer : https://www.bitmex.com/api/explorer/ .\n",
    "\n",
    "client = bitmex.bitmex(test = False, api_key=\"XXXXXXXXXXXXX\", api_secret=\"XXXXXXXXXXXXXXXXX\")\n",
    "#client.Order.Order_new(symbol='XBTUSD',orderQty=-1000,price=entry_price-2, ordType='StopLimit',stopPx=entry_price-4).result()\n",
    "while True:\n",
    "    if client.Order.Order_getOrders(symbol='XBTUSD',reverse=True, filter = '{\"open\": \"true\"}').result()[0] == []:\n",
    "    orderbook = client.OrderBook.OrderBook_getL2(symbol='XBTUSD', depth = 1).result()\n",
    "    now = dt.datetime.today()\n",
    "    start = dt.datetime(now.year,now.month,now.day,now.hour-2,now.minute)\n",
    "    data = client.Trade.Trade_getBucketed(symbol=\"XBTUSD\", binSize='1m', count=100, startTime = start).result()[0]\n",
    "    temp_df = pd.DataFrame(data)\n",
    "    data.head()\n",
    "    entry_price = orderbook[0][0]['price']\n",
    "    exit_price = orderbook[0][0]['price'] + 5\n",
    "    client.Order.Order_new(symbol='XBTUSD',orderQty=1000,price=entry_price).result()\n",
    "    client.Order.Order_new(symbol='XBTUSD',orderQty=-1000,price=exit_price).result()\n",
    "    client.Order.Order_new(symbol='XBTUSD',orderQty=2500,stopPx=entry_price+20).result()\n",
    "    client.Order.Order_new(symbol='XBTUSD',orderQty=-2500,stopPx=entry_price-20).result()\n",
    "    if client.Order.Order_getOrders(symbol='XBTUSD',reverse=True, filter = '{\"open\": \"true\"}').result()[0][0]['ordType'] == 'Stop':\n",
    "        oid1 = client.Order.Order_getOrders(symbol='XBTUSD',reverse=True, filter = '{\"open\": \"true\"}').result()[0][0]['orderID']\n",
    "        oid2 = client.Order.Order_getOrders(symbol='XBTUSD',reverse=True, filter = '{\"open\": \"true\"}').result()[0][1]['orderID']\n",
    "        client.Order.Order_cancel(orderID=oid1)\n",
    "        client.Order.Order_cancel(orderID=oid2)\n",
    "    time.sleep(50)"
   ]
  },
  {
   "cell_type": "code",
   "execution_count": null,
   "metadata": {},
   "outputs": [],
   "source": []
  }
 ],
 "metadata": {
  "kernelspec": {
   "display_name": "Python 3",
   "language": "python",
   "name": "python3"
  },
  "language_info": {
   "codemirror_mode": {
    "name": "ipython",
    "version": 3
   },
   "file_extension": ".py",
   "mimetype": "text/x-python",
   "name": "python",
   "nbconvert_exporter": "python",
   "pygments_lexer": "ipython3",
   "version": "3.6.8"
  }
 },
 "nbformat": 4,
 "nbformat_minor": 2
}
